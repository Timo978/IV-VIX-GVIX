{
 "cells": [
  {
   "cell_type": "code",
   "execution_count": 19,
   "metadata": {
    "collapsed": true,
    "pycharm": {
     "name": "#%%\n"
    }
   },
   "outputs": [],
   "source": [
    "import numpy as np\n",
    "import pandas as pd\n",
    "import matplotlib.pyplot as plt\n",
    "%matplotlib inline"
   ]
  },
  {
   "cell_type": "markdown",
   "source": [
    "$$\\widehat{\\sigma}^{2}=\\frac{2}{T} \\sum_{i} \\frac{\\Delta K_{i}}{K_{i}^{2}} e^{R T} Q\\left(K_{i}\\right)-\\frac{1}{T}\\left[\\frac{F}{K_{0}}-1\\right]^{2}$$\n",
    "$$\\widehat{V I X_{a}}=\\sqrt{\\left\\{\\left[\\frac{N\\left(T_{2}\\right)-N(30)}{N\\left(T_{2}\\right)-N\\left(T_{1}\\right)}\\right]\\left(T_{1} \\cdot \\widehat{\\sigma}_{1}^{2}\\right)+\\left[\\frac{N(30)-N\\left(T_{1}\\right)}{N\\left(T_{2}\\right)-N\\left(T_{1}\\right)}\\right]\\left(T_{2} \\cdot \\widehat{\\sigma}_{2}^{2}\\right)\\right\\}\\left(\\frac{N(365)}{N(30)}\\right)}$$\n",
    "其中：\n",
    "+ $\\widehat{\\sigma}^{2}$：近月波动率估计；\n",
    "+ T: 期权合约剩余到期时间；\n",
    "+ R:时长为T的无风险利率；\n",
    "+ F：无套利的远期价格，计算步骤如下:\n",
    "  1. 获取时长为T的无风险利率R；\n",
    "  2. 获取认购期权价格与认沽期权价格相差最小的执行价，记为S；（注意这里不是标的资产价格）\n",
    "  3. 计算无套利远期价格，$F = S + e^{RT}(C(S) - P(S))$, 是执行价为S的认购期权价格。\n",
    "+ $K_0$: 小于F但最靠近F的执行价；\n",
    "+ $K_i$：从小到大所有近月合约的执行价；\n",
    "+ $\\Delta K_i$：第i个执行价所对应的执行价间隔，一般为$\\frac{K_{i+1} - K_{i-1}}{2}$;\n",
    "+ $Q_{K_i}$：执行价为$K_i$的虚值期权的价格。（即有可能为认购期权，也有可能是认沽期权，保证它为虚值期权！）至于为什么是Q？quote、报价，比较合理吧？\n",
    "+ N()：代表时间间隔数,$T_1$$T_2$分别代表近月（下一个月），次近月（下下个月）"
   ],
   "metadata": {
    "collapsed": false,
    "pycharm": {
     "name": "#%% md\n"
    }
   }
  },
  {
   "cell_type": "code",
   "execution_count": 20,
   "outputs": [],
   "source": [
    "def prepare_data():\n",
    "    \"\"\"提取VIX计算需要的数据\"\"\"\n",
    "    # 期权数据\n",
    "    opt_basic = pd.read_csv('data/opt_basic.csv')\n",
    "    opt_price = pd.read_csv('data/opt_price.csv')\n",
    "    opt_data = pd.merge(opt_price, opt_basic, on='code')\n",
    "\n",
    "    # 转换为日期格式\n",
    "    opt_data['date'] = pd.to_datetime(opt_data['date'])\n",
    "    opt_data['exercise_date'] = pd.to_datetime(opt_data['exercise_date'])\n",
    "    # 筛选需要的字段\n",
    "\n",
    "    use_fields = ['date', 'close', 'contract_type', 'exercise_price', 'exercise_date']\n",
    "    opt_data = opt_data[use_fields]\n",
    "\n",
    "    # 重命名\n",
    "    opt_data['contract_type'] = opt_data['contract_type'].map({'CO': 'call', 'PO': 'put'})\n",
    "    opt_data['T-days'] = (opt_data['exercise_date'] - opt_data['date']).apply(lambda x: x.days)\n",
    "    opt_data['TTM'] = opt_data['T-days'] / 365\n",
    "\n",
    "    # 利率数据\n",
    "    interest_rate = pd.read_csv('data/interest_rate.csv', index_col=0)\n",
    "\n",
    "    # 转换格式\n",
    "    interest_rate.index = pd.DatetimeIndex(interest_rate.index)\n",
    "    interest_rate.columns = interest_rate.columns.astype(int)\n",
    "\n",
    "    # 填充遗漏天数\n",
    "    omit_date = list(set(opt_data['date']) - set(interest_rate.index))\n",
    "    for d in omit_date:\n",
    "        interest_rate.loc[d, :] = np.nan\n",
    "    interest_rate = interest_rate.sort_index().ffill()\n",
    "    return opt_data, interest_rate\n",
    "\n",
    "opt_data, interest_rate = prepare_data()"
   ],
   "metadata": {
    "collapsed": false,
    "pycharm": {
     "name": "#%%\n"
    }
   }
  },
  {
   "cell_type": "code",
   "execution_count": 21,
   "outputs": [
    {
     "data": {
      "text/plain": "           date   close contract_type  exercise_price exercise_date  T-days  \\\n0    2015-02-09  0.1826          call            2.20    2015-03-25      44   \n28   2015-02-09  0.1460          call            2.25    2015-03-25      44   \n56   2015-02-09  0.1225          call            2.30    2015-03-25      44   \n84   2015-02-09  0.0942          call            2.35    2015-03-25      44   \n112  2015-02-09  0.0735          call            2.40    2015-03-25      44   \n140  2015-02-09  0.0617           put            2.20    2015-03-25      44   \n168  2015-02-09  0.0777           put            2.25    2015-03-25      44   \n196  2015-02-09  0.0969           put            2.30    2015-03-25      44   \n224  2015-02-09  0.1268           put            2.35    2015-03-25      44   \n252  2015-02-09  0.1542           put            2.40    2015-03-25      44   \n280  2015-02-09  0.2100          call            2.20    2015-04-22      72   \n327  2015-02-09  0.1785          call            2.25    2015-04-22      72   \n374  2015-02-09  0.1466          call            2.30    2015-04-22      72   \n421  2015-02-09  0.1261          call            2.35    2015-04-22      72   \n468  2015-02-09  0.1008          call            2.40    2015-04-22      72   \n515  2015-02-09  0.0880           put            2.20    2015-04-22      72   \n562  2015-02-09  0.1111           put            2.25    2015-04-22      72   \n609  2015-02-09  0.1327           put            2.30    2015-04-22      72   \n656  2015-02-09  0.1614           put            2.35    2015-04-22      72   \n703  2015-02-09  0.1903           put            2.40    2015-04-22      72   \n750  2015-02-09  0.2662          call            2.20    2015-06-24     135   \n840  2015-02-09  0.2366          call            2.25    2015-06-24     135   \n930  2015-02-09  0.2105          call            2.30    2015-06-24     135   \n1020 2015-02-09  0.1870          call            2.35    2015-06-24     135   \n1110 2015-02-09  0.1652          call            2.40    2015-06-24     135   \n1200 2015-02-09  0.1379           put            2.20    2015-06-24     135   \n1290 2015-02-09  0.1631           put            2.25    2015-06-24     135   \n1380 2015-02-09  0.1882           put            2.30    2015-06-24     135   \n1470 2015-02-09  0.2055           put            2.35    2015-06-24     135   \n1560 2015-02-09  0.2329           put            2.40    2015-06-24     135   \n1650 2015-02-09  0.3130          call            2.20    2015-09-23     226   \n1803 2015-02-09  0.2787          call            2.25    2015-09-23     226   \n1956 2015-02-09  0.2583          call            2.30    2015-09-23     226   \n2109 2015-02-09  0.2326          call            2.35    2015-09-23     226   \n2262 2015-02-09  0.2116          call            2.40    2015-09-23     226   \n2415 2015-02-09  0.1795           put            2.20    2015-09-23     226   \n2568 2015-02-09  0.2116           put            2.25    2015-09-23     226   \n2721 2015-02-09  0.2361           put            2.30    2015-09-23     226   \n2874 2015-02-09  0.2549           put            2.35    2015-09-23     226   \n3027 2015-02-09  0.2935           put            2.40    2015-09-23     226   \n\n           TTM  \n0     0.120548  \n28    0.120548  \n56    0.120548  \n84    0.120548  \n112   0.120548  \n140   0.120548  \n168   0.120548  \n196   0.120548  \n224   0.120548  \n252   0.120548  \n280   0.197260  \n327   0.197260  \n374   0.197260  \n421   0.197260  \n468   0.197260  \n515   0.197260  \n562   0.197260  \n609   0.197260  \n656   0.197260  \n703   0.197260  \n750   0.369863  \n840   0.369863  \n930   0.369863  \n1020  0.369863  \n1110  0.369863  \n1200  0.369863  \n1290  0.369863  \n1380  0.369863  \n1470  0.369863  \n1560  0.369863  \n1650  0.619178  \n1803  0.619178  \n1956  0.619178  \n2109  0.619178  \n2262  0.619178  \n2415  0.619178  \n2568  0.619178  \n2721  0.619178  \n2874  0.619178  \n3027  0.619178  ",
      "text/html": "<div>\n<style scoped>\n    .dataframe tbody tr th:only-of-type {\n        vertical-align: middle;\n    }\n\n    .dataframe tbody tr th {\n        vertical-align: top;\n    }\n\n    .dataframe thead th {\n        text-align: right;\n    }\n</style>\n<table border=\"1\" class=\"dataframe\">\n  <thead>\n    <tr style=\"text-align: right;\">\n      <th></th>\n      <th>date</th>\n      <th>close</th>\n      <th>contract_type</th>\n      <th>exercise_price</th>\n      <th>exercise_date</th>\n      <th>T-days</th>\n      <th>TTM</th>\n    </tr>\n  </thead>\n  <tbody>\n    <tr>\n      <th>0</th>\n      <td>2015-02-09</td>\n      <td>0.1826</td>\n      <td>call</td>\n      <td>2.20</td>\n      <td>2015-03-25</td>\n      <td>44</td>\n      <td>0.120548</td>\n    </tr>\n    <tr>\n      <th>28</th>\n      <td>2015-02-09</td>\n      <td>0.1460</td>\n      <td>call</td>\n      <td>2.25</td>\n      <td>2015-03-25</td>\n      <td>44</td>\n      <td>0.120548</td>\n    </tr>\n    <tr>\n      <th>56</th>\n      <td>2015-02-09</td>\n      <td>0.1225</td>\n      <td>call</td>\n      <td>2.30</td>\n      <td>2015-03-25</td>\n      <td>44</td>\n      <td>0.120548</td>\n    </tr>\n    <tr>\n      <th>84</th>\n      <td>2015-02-09</td>\n      <td>0.0942</td>\n      <td>call</td>\n      <td>2.35</td>\n      <td>2015-03-25</td>\n      <td>44</td>\n      <td>0.120548</td>\n    </tr>\n    <tr>\n      <th>112</th>\n      <td>2015-02-09</td>\n      <td>0.0735</td>\n      <td>call</td>\n      <td>2.40</td>\n      <td>2015-03-25</td>\n      <td>44</td>\n      <td>0.120548</td>\n    </tr>\n    <tr>\n      <th>140</th>\n      <td>2015-02-09</td>\n      <td>0.0617</td>\n      <td>put</td>\n      <td>2.20</td>\n      <td>2015-03-25</td>\n      <td>44</td>\n      <td>0.120548</td>\n    </tr>\n    <tr>\n      <th>168</th>\n      <td>2015-02-09</td>\n      <td>0.0777</td>\n      <td>put</td>\n      <td>2.25</td>\n      <td>2015-03-25</td>\n      <td>44</td>\n      <td>0.120548</td>\n    </tr>\n    <tr>\n      <th>196</th>\n      <td>2015-02-09</td>\n      <td>0.0969</td>\n      <td>put</td>\n      <td>2.30</td>\n      <td>2015-03-25</td>\n      <td>44</td>\n      <td>0.120548</td>\n    </tr>\n    <tr>\n      <th>224</th>\n      <td>2015-02-09</td>\n      <td>0.1268</td>\n      <td>put</td>\n      <td>2.35</td>\n      <td>2015-03-25</td>\n      <td>44</td>\n      <td>0.120548</td>\n    </tr>\n    <tr>\n      <th>252</th>\n      <td>2015-02-09</td>\n      <td>0.1542</td>\n      <td>put</td>\n      <td>2.40</td>\n      <td>2015-03-25</td>\n      <td>44</td>\n      <td>0.120548</td>\n    </tr>\n    <tr>\n      <th>280</th>\n      <td>2015-02-09</td>\n      <td>0.2100</td>\n      <td>call</td>\n      <td>2.20</td>\n      <td>2015-04-22</td>\n      <td>72</td>\n      <td>0.197260</td>\n    </tr>\n    <tr>\n      <th>327</th>\n      <td>2015-02-09</td>\n      <td>0.1785</td>\n      <td>call</td>\n      <td>2.25</td>\n      <td>2015-04-22</td>\n      <td>72</td>\n      <td>0.197260</td>\n    </tr>\n    <tr>\n      <th>374</th>\n      <td>2015-02-09</td>\n      <td>0.1466</td>\n      <td>call</td>\n      <td>2.30</td>\n      <td>2015-04-22</td>\n      <td>72</td>\n      <td>0.197260</td>\n    </tr>\n    <tr>\n      <th>421</th>\n      <td>2015-02-09</td>\n      <td>0.1261</td>\n      <td>call</td>\n      <td>2.35</td>\n      <td>2015-04-22</td>\n      <td>72</td>\n      <td>0.197260</td>\n    </tr>\n    <tr>\n      <th>468</th>\n      <td>2015-02-09</td>\n      <td>0.1008</td>\n      <td>call</td>\n      <td>2.40</td>\n      <td>2015-04-22</td>\n      <td>72</td>\n      <td>0.197260</td>\n    </tr>\n    <tr>\n      <th>515</th>\n      <td>2015-02-09</td>\n      <td>0.0880</td>\n      <td>put</td>\n      <td>2.20</td>\n      <td>2015-04-22</td>\n      <td>72</td>\n      <td>0.197260</td>\n    </tr>\n    <tr>\n      <th>562</th>\n      <td>2015-02-09</td>\n      <td>0.1111</td>\n      <td>put</td>\n      <td>2.25</td>\n      <td>2015-04-22</td>\n      <td>72</td>\n      <td>0.197260</td>\n    </tr>\n    <tr>\n      <th>609</th>\n      <td>2015-02-09</td>\n      <td>0.1327</td>\n      <td>put</td>\n      <td>2.30</td>\n      <td>2015-04-22</td>\n      <td>72</td>\n      <td>0.197260</td>\n    </tr>\n    <tr>\n      <th>656</th>\n      <td>2015-02-09</td>\n      <td>0.1614</td>\n      <td>put</td>\n      <td>2.35</td>\n      <td>2015-04-22</td>\n      <td>72</td>\n      <td>0.197260</td>\n    </tr>\n    <tr>\n      <th>703</th>\n      <td>2015-02-09</td>\n      <td>0.1903</td>\n      <td>put</td>\n      <td>2.40</td>\n      <td>2015-04-22</td>\n      <td>72</td>\n      <td>0.197260</td>\n    </tr>\n    <tr>\n      <th>750</th>\n      <td>2015-02-09</td>\n      <td>0.2662</td>\n      <td>call</td>\n      <td>2.20</td>\n      <td>2015-06-24</td>\n      <td>135</td>\n      <td>0.369863</td>\n    </tr>\n    <tr>\n      <th>840</th>\n      <td>2015-02-09</td>\n      <td>0.2366</td>\n      <td>call</td>\n      <td>2.25</td>\n      <td>2015-06-24</td>\n      <td>135</td>\n      <td>0.369863</td>\n    </tr>\n    <tr>\n      <th>930</th>\n      <td>2015-02-09</td>\n      <td>0.2105</td>\n      <td>call</td>\n      <td>2.30</td>\n      <td>2015-06-24</td>\n      <td>135</td>\n      <td>0.369863</td>\n    </tr>\n    <tr>\n      <th>1020</th>\n      <td>2015-02-09</td>\n      <td>0.1870</td>\n      <td>call</td>\n      <td>2.35</td>\n      <td>2015-06-24</td>\n      <td>135</td>\n      <td>0.369863</td>\n    </tr>\n    <tr>\n      <th>1110</th>\n      <td>2015-02-09</td>\n      <td>0.1652</td>\n      <td>call</td>\n      <td>2.40</td>\n      <td>2015-06-24</td>\n      <td>135</td>\n      <td>0.369863</td>\n    </tr>\n    <tr>\n      <th>1200</th>\n      <td>2015-02-09</td>\n      <td>0.1379</td>\n      <td>put</td>\n      <td>2.20</td>\n      <td>2015-06-24</td>\n      <td>135</td>\n      <td>0.369863</td>\n    </tr>\n    <tr>\n      <th>1290</th>\n      <td>2015-02-09</td>\n      <td>0.1631</td>\n      <td>put</td>\n      <td>2.25</td>\n      <td>2015-06-24</td>\n      <td>135</td>\n      <td>0.369863</td>\n    </tr>\n    <tr>\n      <th>1380</th>\n      <td>2015-02-09</td>\n      <td>0.1882</td>\n      <td>put</td>\n      <td>2.30</td>\n      <td>2015-06-24</td>\n      <td>135</td>\n      <td>0.369863</td>\n    </tr>\n    <tr>\n      <th>1470</th>\n      <td>2015-02-09</td>\n      <td>0.2055</td>\n      <td>put</td>\n      <td>2.35</td>\n      <td>2015-06-24</td>\n      <td>135</td>\n      <td>0.369863</td>\n    </tr>\n    <tr>\n      <th>1560</th>\n      <td>2015-02-09</td>\n      <td>0.2329</td>\n      <td>put</td>\n      <td>2.40</td>\n      <td>2015-06-24</td>\n      <td>135</td>\n      <td>0.369863</td>\n    </tr>\n    <tr>\n      <th>1650</th>\n      <td>2015-02-09</td>\n      <td>0.3130</td>\n      <td>call</td>\n      <td>2.20</td>\n      <td>2015-09-23</td>\n      <td>226</td>\n      <td>0.619178</td>\n    </tr>\n    <tr>\n      <th>1803</th>\n      <td>2015-02-09</td>\n      <td>0.2787</td>\n      <td>call</td>\n      <td>2.25</td>\n      <td>2015-09-23</td>\n      <td>226</td>\n      <td>0.619178</td>\n    </tr>\n    <tr>\n      <th>1956</th>\n      <td>2015-02-09</td>\n      <td>0.2583</td>\n      <td>call</td>\n      <td>2.30</td>\n      <td>2015-09-23</td>\n      <td>226</td>\n      <td>0.619178</td>\n    </tr>\n    <tr>\n      <th>2109</th>\n      <td>2015-02-09</td>\n      <td>0.2326</td>\n      <td>call</td>\n      <td>2.35</td>\n      <td>2015-09-23</td>\n      <td>226</td>\n      <td>0.619178</td>\n    </tr>\n    <tr>\n      <th>2262</th>\n      <td>2015-02-09</td>\n      <td>0.2116</td>\n      <td>call</td>\n      <td>2.40</td>\n      <td>2015-09-23</td>\n      <td>226</td>\n      <td>0.619178</td>\n    </tr>\n    <tr>\n      <th>2415</th>\n      <td>2015-02-09</td>\n      <td>0.1795</td>\n      <td>put</td>\n      <td>2.20</td>\n      <td>2015-09-23</td>\n      <td>226</td>\n      <td>0.619178</td>\n    </tr>\n    <tr>\n      <th>2568</th>\n      <td>2015-02-09</td>\n      <td>0.2116</td>\n      <td>put</td>\n      <td>2.25</td>\n      <td>2015-09-23</td>\n      <td>226</td>\n      <td>0.619178</td>\n    </tr>\n    <tr>\n      <th>2721</th>\n      <td>2015-02-09</td>\n      <td>0.2361</td>\n      <td>put</td>\n      <td>2.30</td>\n      <td>2015-09-23</td>\n      <td>226</td>\n      <td>0.619178</td>\n    </tr>\n    <tr>\n      <th>2874</th>\n      <td>2015-02-09</td>\n      <td>0.2549</td>\n      <td>put</td>\n      <td>2.35</td>\n      <td>2015-09-23</td>\n      <td>226</td>\n      <td>0.619178</td>\n    </tr>\n    <tr>\n      <th>3027</th>\n      <td>2015-02-09</td>\n      <td>0.2935</td>\n      <td>put</td>\n      <td>2.40</td>\n      <td>2015-09-23</td>\n      <td>226</td>\n      <td>0.619178</td>\n    </tr>\n  </tbody>\n</table>\n</div>"
     },
     "execution_count": 21,
     "metadata": {},
     "output_type": "execute_result"
    }
   ],
   "source": [
    "for dt, data in opt_data.groupby('date'):\n",
    "    break\n",
    "# dt == Timestamp('2015-02-09 00:00:00')\n",
    "# data见下图\n",
    "data"
   ],
   "metadata": {
    "collapsed": false,
    "pycharm": {
     "name": "#%%\n"
    }
   }
  },
  {
   "cell_type": "code",
   "execution_count": 23,
   "outputs": [
    {
     "data": {
      "text/plain": "          date   close contract_type  exercise_price exercise_date  T-days  \\\n0   2015-02-09  0.1826          call            2.20    2015-03-25      44   \n28  2015-02-09  0.1460          call            2.25    2015-03-25      44   \n56  2015-02-09  0.1225          call            2.30    2015-03-25      44   \n84  2015-02-09  0.0942          call            2.35    2015-03-25      44   \n112 2015-02-09  0.0735          call            2.40    2015-03-25      44   \n140 2015-02-09  0.0617           put            2.20    2015-03-25      44   \n168 2015-02-09  0.0777           put            2.25    2015-03-25      44   \n196 2015-02-09  0.0969           put            2.30    2015-03-25      44   \n224 2015-02-09  0.1268           put            2.35    2015-03-25      44   \n252 2015-02-09  0.1542           put            2.40    2015-03-25      44   \n\n          TTM  \n0    0.120548  \n28   0.120548  \n56   0.120548  \n84   0.120548  \n112  0.120548  \n140  0.120548  \n168  0.120548  \n196  0.120548  \n224  0.120548  \n252  0.120548  ",
      "text/html": "<div>\n<style scoped>\n    .dataframe tbody tr th:only-of-type {\n        vertical-align: middle;\n    }\n\n    .dataframe tbody tr th {\n        vertical-align: top;\n    }\n\n    .dataframe thead th {\n        text-align: right;\n    }\n</style>\n<table border=\"1\" class=\"dataframe\">\n  <thead>\n    <tr style=\"text-align: right;\">\n      <th></th>\n      <th>date</th>\n      <th>close</th>\n      <th>contract_type</th>\n      <th>exercise_price</th>\n      <th>exercise_date</th>\n      <th>T-days</th>\n      <th>TTM</th>\n    </tr>\n  </thead>\n  <tbody>\n    <tr>\n      <th>0</th>\n      <td>2015-02-09</td>\n      <td>0.1826</td>\n      <td>call</td>\n      <td>2.20</td>\n      <td>2015-03-25</td>\n      <td>44</td>\n      <td>0.120548</td>\n    </tr>\n    <tr>\n      <th>28</th>\n      <td>2015-02-09</td>\n      <td>0.1460</td>\n      <td>call</td>\n      <td>2.25</td>\n      <td>2015-03-25</td>\n      <td>44</td>\n      <td>0.120548</td>\n    </tr>\n    <tr>\n      <th>56</th>\n      <td>2015-02-09</td>\n      <td>0.1225</td>\n      <td>call</td>\n      <td>2.30</td>\n      <td>2015-03-25</td>\n      <td>44</td>\n      <td>0.120548</td>\n    </tr>\n    <tr>\n      <th>84</th>\n      <td>2015-02-09</td>\n      <td>0.0942</td>\n      <td>call</td>\n      <td>2.35</td>\n      <td>2015-03-25</td>\n      <td>44</td>\n      <td>0.120548</td>\n    </tr>\n    <tr>\n      <th>112</th>\n      <td>2015-02-09</td>\n      <td>0.0735</td>\n      <td>call</td>\n      <td>2.40</td>\n      <td>2015-03-25</td>\n      <td>44</td>\n      <td>0.120548</td>\n    </tr>\n    <tr>\n      <th>140</th>\n      <td>2015-02-09</td>\n      <td>0.0617</td>\n      <td>put</td>\n      <td>2.20</td>\n      <td>2015-03-25</td>\n      <td>44</td>\n      <td>0.120548</td>\n    </tr>\n    <tr>\n      <th>168</th>\n      <td>2015-02-09</td>\n      <td>0.0777</td>\n      <td>put</td>\n      <td>2.25</td>\n      <td>2015-03-25</td>\n      <td>44</td>\n      <td>0.120548</td>\n    </tr>\n    <tr>\n      <th>196</th>\n      <td>2015-02-09</td>\n      <td>0.0969</td>\n      <td>put</td>\n      <td>2.30</td>\n      <td>2015-03-25</td>\n      <td>44</td>\n      <td>0.120548</td>\n    </tr>\n    <tr>\n      <th>224</th>\n      <td>2015-02-09</td>\n      <td>0.1268</td>\n      <td>put</td>\n      <td>2.35</td>\n      <td>2015-03-25</td>\n      <td>44</td>\n      <td>0.120548</td>\n    </tr>\n    <tr>\n      <th>252</th>\n      <td>2015-02-09</td>\n      <td>0.1542</td>\n      <td>put</td>\n      <td>2.40</td>\n      <td>2015-03-25</td>\n      <td>44</td>\n      <td>0.120548</td>\n    </tr>\n  </tbody>\n</table>\n</div>"
     },
     "execution_count": 23,
     "metadata": {},
     "output_type": "execute_result"
    }
   ],
   "source": [
    "# 筛选近月、次近月的合约存续时间\n",
    "all_T = data[data['T-days'] > 7]['T-days'].unique()\n",
    "all_T.sort()\n",
    "# 以【日】为单位和以【年】为单位的存续时间\n",
    "Tdays_fm, Tdays_sfm = all_T[:2]\n",
    "T_fm, T_sfm = all_T[:2] / 365\n",
    "# 以此筛选出用于计算的合约数据\n",
    "data_fm, data_sfm = data[data['TTM'] == T_fm], data[data['TTM'] == T_sfm]\n",
    "data_fm"
   ],
   "metadata": {
    "collapsed": false,
    "pycharm": {
     "name": "#%%\n"
    }
   }
  },
  {
   "cell_type": "code",
   "execution_count": 24,
   "outputs": [],
   "source": [
    "def pivot_table_(data):\n",
    "    data = data.pivot_table(index='exercise_price', columns='contract_type', values='close')\n",
    "    data['call-put'] = data['call'] - data['put']\n",
    "    data['abs-diff'] = np.abs(data['call-put'])\n",
    "    return data\n",
    "\n",
    "\n",
    "def get_params(data, dt, Tdays):\n",
    "    \"\"\"\n",
    "    参数计算函数.\n",
    "    data: 前面计算的数据透视表；\n",
    "    dt: 计算VIX指数的时间；\n",
    "    Tdays: 到期时间，单位为（日）；\n",
    "    return:\n",
    "        S: 无套利标的资产价格\n",
    "        R: 对应时间的无风险利率\n",
    "        F: 无套利远期价格\n",
    "        K0: 离F最近的，但小于F的执行价\n",
    "        Q: pandas.DataFrame, 里面包含计算参数Q, K_i, delta_K_i\n",
    "    \"\"\"\n",
    "    S = data.sort_values(by='abs-diff').index[0]\n",
    "    R = interest_rate.loc[dt, Tdays] / 100\n",
    "    F = S + np.exp(Tdays / 365 * R) * data.loc[S, 'call-put']\n",
    "    K0 = np.max(data.index[data.index < F])\n",
    "    # 合约选择\n",
    "    Q = data[['call', 'put']].copy()\n",
    "    Q.loc[Q.index >= F, 'Q'] = Q.loc[Q.index >= F, 'call']\n",
    "    Q.loc[Q.index < F, 'Q'] = Q.loc[Q.index < F, 'put']\n",
    "    Q = Q['Q'].reset_index()\n",
    "    # 一大波操作：重设K_i index，移动窗口方法计算delta_K_i\n",
    "    Q['delta_K'] = Q['exercise_price']\\\n",
    "        .rolling(3, center=True)\\\n",
    "        .apply(lambda x: (x.iloc[-1] - x.iloc[0]) / 2)\\\n",
    "        .ffill().bfill() # 填充两端的缺失值\n",
    "    return S, R, F, K0, Q\n",
    "\n",
    "# S_fm, R_fm, F_fm, K0_fm = (2.3, 0.04996766666666667, 2.325754666938786, 2.3)\n",
    "# S_sfm, R_sfm, F_sfm, K0_sfm = (2.3, 0.049402999999999996, 2.3140361211554956, 2.3)"
   ],
   "metadata": {
    "collapsed": false,
    "pycharm": {
     "name": "#%%\n"
    }
   }
  },
  {
   "cell_type": "code",
   "execution_count": 25,
   "outputs": [],
   "source": [
    "def get_sigma(T, R, F, K0, Q):\n",
    "    sigma_part1 = (2/T) * np.sum(np.exp(R*T)*Q['Q']*Q['delta_K']/np.square(Q['exercise_price']))\n",
    "    sigma_part2 = (1/T) * (F/K0 - 1)**2\n",
    "    return sigma_part1 + sigma_part2\n",
    "\n",
    "def get_VIX(sigma1, sigma2, T1, T2):\n",
    "    vix_part1 = (T1 * sigma1) * (T2 - 30 / 365) / (T2 - T1)\n",
    "    vix_part2 = (T2 * sigma2) * (30 / 365 - T1) / (T2 - T1)\n",
    "    return np.sqrt((365 / 30) * (vix_part1 + vix_part2))"
   ],
   "metadata": {
    "collapsed": false,
    "pycharm": {
     "name": "#%%\n"
    }
   }
  },
  {
   "cell_type": "code",
   "execution_count": 27,
   "outputs": [],
   "source": [
    "# 设置一个空字典来储存数据\n",
    "VIX = {}\n",
    "for dt, data in opt_data.groupby('date'):\n",
    "    # 筛选近月、次近月的合约存续时间\n",
    "    all_T = data[data['T-days'] > 7]['T-days'].unique()\n",
    "    all_T.sort()\n",
    "    T_fm, T_sfm = all_T[:2] / 365\n",
    "    Tdays_fm, Tdays_sfm = all_T[:2]\n",
    "    # 以此筛选出用于计算的合约数据\n",
    "    data_fm, data_sfm = data[data['TTM'] == T_fm], data[data['TTM'] == T_sfm]\n",
    "    # 数据透视表操作\n",
    "    data_fm_ = pivot_table_(data_fm.copy())\n",
    "    data_sfm_ = pivot_table_(data_sfm.copy())\n",
    "    # 获取计算参数\n",
    "    S_fm, R_fm, F_fm, K0_fm, Q_fm = get_params(data_fm_, dt, Tdays_fm)\n",
    "    S_sfm, R_sfm, F_sfm, K0_sfm, Q_sfm = get_params(data_sfm_, dt, Tdays_sfm)\n",
    "    # 计算sigma\n",
    "    sigma1 = get_sigma(T_fm, R_fm, F_fm, K0_fm, Q_fm)\n",
    "    sigma2 = get_sigma(T_sfm, R_sfm, F_sfm, K0_sfm, Q_sfm)\n",
    "    # 计算VIX指数\n",
    "    VIX[dt] = get_VIX(sigma1, sigma2, T_fm, T_sfm)\n",
    "\n",
    "# 里面有一些天数算不出来（但不多），估计是合约移仓换月的时候无数可算。\n",
    "VIX = pd.Series(VIX, name='VIX').dropna()\n",
    "\n",
    "# 保存数据\n",
    "# VIX.to_csv('VIX.csv')"
   ],
   "metadata": {
    "collapsed": false,
    "pycharm": {
     "name": "#%%\n"
    }
   }
  },
  {
   "cell_type": "code",
   "execution_count": null,
   "outputs": [],
   "source": [
    "fig, ax = plt.subplots(figsize=(15, 6))\n",
    "VIX.plot(ax=ax)\n",
    "ax.grid()\n",
    "# 保存图像\n",
    "# plt.savefig('source/VIX.png', bbox_inches='tight', dpi=200)"
   ],
   "metadata": {
    "collapsed": false,
    "pycharm": {
     "name": "#%%\n"
    }
   }
  },
  {
   "cell_type": "code",
   "execution_count": 29,
   "outputs": [
    {
     "data": {
      "text/plain": "2015-02-09    0.277829\n2015-02-10    0.281666\n2015-02-11    0.256395\n2015-02-12    0.246219\n2015-02-13    0.222193\n                ...   \n2022-03-24    0.198685\n2022-03-25    0.217745\n2022-03-28    0.225862\n2022-03-29    0.224700\n2022-03-30    0.207566\nName: VIX, Length: 1720, dtype: float64"
     },
     "execution_count": 29,
     "metadata": {},
     "output_type": "execute_result"
    }
   ],
   "source": [
    "VIX"
   ],
   "metadata": {
    "collapsed": false,
    "pycharm": {
     "name": "#%%\n"
    }
   }
  },
  {
   "cell_type": "code",
   "execution_count": null,
   "outputs": [],
   "source": [],
   "metadata": {
    "collapsed": false,
    "pycharm": {
     "name": "#%%\n"
    }
   }
  }
 ],
 "metadata": {
  "kernelspec": {
   "display_name": "Python 3",
   "language": "python",
   "name": "python3"
  },
  "language_info": {
   "codemirror_mode": {
    "name": "ipython",
    "version": 2
   },
   "file_extension": ".py",
   "mimetype": "text/x-python",
   "name": "python",
   "nbconvert_exporter": "python",
   "pygments_lexer": "ipython2",
   "version": "2.7.6"
  }
 },
 "nbformat": 4,
 "nbformat_minor": 0
}